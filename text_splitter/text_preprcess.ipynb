{
 "cells": [
  {
   "cell_type": "markdown",
   "metadata": {},
   "source": [
    "处理文档，将每个知识点转化为一个段落进行保存"
   ]
  },
  {
   "cell_type": "code",
   "execution_count": null,
   "metadata": {},
   "outputs": [],
   "source": [
    "def read_and_process_txt(input_file_path, output_file_path):\n",
    "    with open(input_file_path, 'r', encoding='utf-8') as file:\n",
    "        content = file.read()\n",
    "\n",
    "    # 按'/n/n'分割文本为段落\n",
    "    paragraphs = content.split('/n/n')\n",
    "    print(paragraphs[0])\n",
    "\n",
    "    # 去除每段中的换行符并合并成一个段落\n",
    "    processed_paragraphs = [''.join(p.split('\\n')) for p in paragraphs]\n",
    "\n",
    "    # 将处理后的段落写入到一个新的txt文件中，每个段落之间用'/n/n'分隔\n",
    "    with open(output_file_path, 'w', encoding='utf-8') as output_file:\n",
    "        for paragraph in processed_paragraphs:\n",
    "            output_file.write(paragraph + '\\n\\n')\n",
    "\n",
    "    return output_file_path\n",
    "\n",
    "# 使用示例\n",
    "input_file_path = '/home/administrator/projs/process/针灸学词典.txt'  # 将此替换为待处理的文件路径\n",
    "output_file_path = '/home/administrator/projs/process/针灸学词典_processed.txt'  # 将此替换为处理后文件的保存路径\n",
    "\n",
    "processed_file_path = read_and_process_txt(input_file_path, output_file_path)\n",
    "print(f'Processed file saved as: {processed_file_path}')"
   ]
  },
  {
   "cell_type": "code",
   "execution_count": 1,
   "metadata": {},
   "outputs": [],
   "source": [
    "# Read the input file, split it into paragraphs by \"\\n\\n\", and then merge the lines within each paragraph into a single line.\n",
    "\n",
    "def process_text_file(input_file, output_file):\n",
    "    with open(input_file, 'r', encoding='utf-8') as file:\n",
    "        content = file.read()\n",
    "    \n",
    "    paragraphs = content.split('\\n\\n')\n",
    "    processed_paragraphs = [' '.join(paragraph.splitlines()) for paragraph in paragraphs]\n",
    "    processed_content = '\\n\\n'.join(processed_paragraphs)\n",
    "    \n",
    "    with open(output_file, 'w', encoding='utf-8') as file:\n",
    "        file.write(processed_content)\n",
    "\n",
    "# Define input and output file paths\n",
    "input_file_path = '/home/administrator/projs/process/针灸学词典.txt'\n",
    "output_file_path = '/home/administrator/projs/process/针灸学词典-1.txt'\n",
    "\n",
    "# Process the file\n",
    "process_text_file(input_file_path, output_file_path)\n"
   ]
  },
  {
   "cell_type": "code",
   "execution_count": 2,
   "metadata": {},
   "outputs": [],
   "source": [
    "def process_text_file_no_extra_spaces(input_file, output_file):\n",
    "    with open(input_file, 'r', encoding='utf-8') as file:\n",
    "        content = file.read()\n",
    "    \n",
    "    paragraphs = content.split('\\n\\n')\n",
    "    processed_paragraphs = [''.join(paragraph.splitlines()) for paragraph in paragraphs]\n",
    "    processed_content = '\\n\\n'.join(processed_paragraphs)\n",
    "    \n",
    "    with open(output_file, 'w', encoding='utf-8') as file:\n",
    "        file.write(processed_content)\n",
    "\n",
    "# Define input and output file paths\n",
    "input_file_path = '/home/administrator/projs/process/针灸学词典.txt'\n",
    "output_file_path = '/home/administrator/projs/process/针灸学词典-2.txt'\n",
    "\n",
    "# Process the file\n",
    "process_text_file_no_extra_spaces(input_file_path, output_file_path)\n"
   ]
  }
 ],
 "metadata": {
  "kernelspec": {
   "display_name": "langchain",
   "language": "python",
   "name": "python3"
  },
  "language_info": {
   "codemirror_mode": {
    "name": "ipython",
    "version": 3
   },
   "file_extension": ".py",
   "mimetype": "text/x-python",
   "name": "python",
   "nbconvert_exporter": "python",
   "pygments_lexer": "ipython3",
   "version": "3.10.13"
  }
 },
 "nbformat": 4,
 "nbformat_minor": 2
}
